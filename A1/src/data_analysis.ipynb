{
 "cells": [
  {
   "cell_type": "code",
   "execution_count": 2,
   "metadata": {},
   "outputs": [
    {
     "name": "stdout",
     "output_type": "stream",
     "text": [
      "   pagecount_desktop_views  Year  Month  pagecount_mobile_views  \\\n",
      "0             2.998332e+09  2007     12                     0.0   \n",
      "1             4.930903e+09  2008      1                     0.0   \n",
      "2             4.818394e+09  2008      2                     0.0   \n",
      "3             4.955406e+09  2008      3                     0.0   \n",
      "4             5.159162e+09  2008      4                     0.0   \n",
      "\n",
      "   pageviews_desktop_views  pageviews_mobile_views  pageviews_all_views  \\\n",
      "0                      0.0                     0.0                  0.0   \n",
      "1                      0.0                     0.0                  0.0   \n",
      "2                      0.0                     0.0                  0.0   \n",
      "3                      0.0                     0.0                  0.0   \n",
      "4                      0.0                     0.0                  0.0   \n",
      "\n",
      "   pagecount_allviews_views  \n",
      "0              2.998332e+09  \n",
      "1              4.930903e+09  \n",
      "2              4.818394e+09  \n",
      "3              4.955406e+09  \n",
      "4              5.159162e+09  \n"
     ]
    }
   ],
   "source": [
    "# This Script will serve to produce the timeseries plot for this assignment\n",
    "\n",
    "from pandas import read_csv\n",
    "from matplotlib import pyplot\n",
    "series = read_csv('../clean_data/en-wikipedia_traffic_200712-202108.csv', header=0, parse_dates=True, squeeze=True)\n",
    "print(series.head())"
   ]
  },
  {
   "cell_type": "code",
   "execution_count": null,
   "metadata": {},
   "outputs": [],
   "source": [
    "# To obtain a visualization as to how the view count varies for both the PageCount and PageView APIs over time, \n",
    "# the csv file will be subsetted into two separate dataframes: one for PageCount and PageView\n",
    "\n",
    "pagecount_df = series.drop(['pageviews_desktop_views', 'pageviews_mobile_views', 'pageviews_all_views'], axis=1)\n",
    "\n",
    "pageview_df = series.drop(['pagecount_desktop_views', 'pagecount_mobile_views', 'pagecount_all_views'], axis=1)\n",
    "\n",
    "\n",
    "# To make the X-axis, which will reflect the change in time, more simple, a column will be added containing both the \n",
    "# month and year in a YYYY-MM format\n",
    "\n",
    "\n",
    "# Ran out of time, couldn't create the timeseries plots for this Assignment\n"
   ]
  }
 ],
 "metadata": {
  "kernelspec": {
   "display_name": "Python 3",
   "language": "python",
   "name": "python3"
  },
  "language_info": {
   "codemirror_mode": {
    "name": "ipython",
    "version": 3
   },
   "file_extension": ".py",
   "mimetype": "text/x-python",
   "name": "python",
   "nbconvert_exporter": "python",
   "pygments_lexer": "ipython3",
   "version": "3.7.4"
  }
 },
 "nbformat": 4,
 "nbformat_minor": 2
}
