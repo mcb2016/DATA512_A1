{
 "cells": [
  {
   "cell_type": "code",
   "execution_count": 45,
   "metadata": {},
   "outputs": [],
   "source": [
    "# The purpose of this script is to serve as data ingestion; create json files containing the viewcount data from \n",
    "# the PageCount (legacy) and PageView API. \n",
    "\n",
    "import json\n",
    "import requests"
   ]
  },
  {
   "cell_type": "code",
   "execution_count": 46,
   "metadata": {},
   "outputs": [],
   "source": [
    "#  Here are the URL links for both the PageCount (legacy) and PageView API\n",
    "\n",
    "endpoint_legacy = 'https://wikimedia.org/api/rest_v1/metrics/legacy/pagecounts/aggregate/{project}/{access-site}/{granularity}/{start}/{end}'\n",
    "\n",
    "endpoint_pageviews = 'https://wikimedia.org/api/rest_v1/metrics/pageviews/aggregate/{project}/{access}/{agent}/{granularity}/{start}/{end}'"
   ]
  },
  {
   "cell_type": "code",
   "execution_count": 47,
   "metadata": {},
   "outputs": [],
   "source": [
    "# Here we define 5 API calls: 2 are calls to the PageCount API for its desktop and mobile viewcounts, 3 are calls\n",
    "# to the PageView API for its desktop, mobile, and website view counts\n",
    "\n",
    "desktop_params_legacy = {\"project\" : \"en.wikipedia.org\",\n",
    "                 \"access-site\" : \"desktop-site\",\n",
    "                 \"granularity\" : \"monthly\",\n",
    "                 \"start\" : \"2007120100\",\n",
    "                # for end use 1st day of month following final month of data\n",
    "                 \"end\" : \"2016070100\"\n",
    "                    }\n",
    "\n",
    "mobile_params_legacy = {\"project\" : \"en.wikipedia.org\",\n",
    "                 \"access-site\" : \"mobile-site\",\n",
    "                 \"granularity\" : \"monthly\",\n",
    "                 \"start\" : \"2007120100\",\n",
    "                # for end use 1st day of month following final month of data\n",
    "                 \"end\" : \"2016070100\"\n",
    "                    }\n",
    "\n",
    "desktop_params_pageviews = {\"project\" : \"en.wikipedia.org\",\n",
    "                    \"access\" : \"desktop\",\n",
    "                    \"agent\" : \"user\",\n",
    "                    \"granularity\" : \"monthly\",\n",
    "                    \"start\" : \"2015070100\",\n",
    "                    # for end use 1st day of month following final month of data\n",
    "                    \"end\" : '2021091000'\n",
    "                        }\n",
    "\n",
    "mobile_params_pageviews = {\"project\" : \"en.wikipedia.org\",\n",
    "                    \"access\" : \"mobile-app\",\n",
    "                    \"agent\" : \"user\",\n",
    "                    \"granularity\" : \"monthly\",\n",
    "                    \"start\" : \"2015070100\",\n",
    "                    # for end use 1st day of month following final month of data\n",
    "                    \"end\" : '2021091000'\n",
    "                        }\n",
    "\n",
    "website_params_pageviews = {\"project\" : \"en.wikipedia.org\",\n",
    "                    \"access\" : \"mobile-web\",\n",
    "                    \"agent\" : \"user\",\n",
    "                    \"granularity\" : \"monthly\",\n",
    "                    \"start\" : \"2015070100\",\n",
    "                    # for end use 1st day of month following final month of data\n",
    "                    \"end\" : '2021091000'\n",
    "                        }\n",
    "\n",
    "\n",
    "# Specifying the headers using my github account\n",
    "headers = {\n",
    "    'User-Agent': 'https://github.com/mcb2016',\n",
    "    'From': 'youremail@uw.edu'\n",
    "}"
   ]
  },
  {
   "cell_type": "code",
   "execution_count": 48,
   "metadata": {},
   "outputs": [],
   "source": [
    "# Here we'll define a function that makes the call to the APIs mentioned prior\n",
    "\n",
    "def api_call(endpoint,parameters):\n",
    "    call = requests.get(endpoint.format(**parameters), headers=headers)\n",
    "    response = call.json()\n",
    "    \n",
    "    return response"
   ]
  },
  {
   "cell_type": "code",
   "execution_count": 49,
   "metadata": {},
   "outputs": [],
   "source": [
    "# Using the function defined above, we load in the view count data as json data for each of the 5 calls we defined\n",
    "\n",
    "desktop_monthly_legacy = api_call(endpoint_legacy, desktop_params_legacy)\n",
    "\n",
    "mobile_monthly_legacy = api_call(endpoint_legacy, mobile_params_legacy)\n",
    "\n",
    "website_monthly_pageviews = api_call(endpoint_pageviews, website_params_pageviews)\n",
    "\n",
    "desktop_monthly_pageviews = api_call(endpoint_pageviews, desktop_params_pageviews)\n",
    "\n",
    "mobile_monthly_pageviews = api_call(endpoint_pageviews, mobile_params_pageviews)"
   ]
  },
  {
   "cell_type": "code",
   "execution_count": 50,
   "metadata": {},
   "outputs": [],
   "source": [
    "# We'll write each of the 5 json data that we loaded in above to the json files for our raw data\n",
    "\n",
    "with open('../raw_data/legacy_desktop_200712-201607.json', 'w', encoding='utf-8') as outfile:\n",
    "    json.dump(desktop_monthly_legacy, outfile)\n",
    "    \n",
    "with open('../raw_data/legacy_mobile_200712-201607.json', 'w', encoding='utf-8') as outfile:\n",
    "    json.dump(mobile_monthly_legacy, outfile)\n",
    "    \n",
    "with open('../raw_data/pageviews_website_201507-202109.json', 'w', encoding='utf-8') as outfile:\n",
    "    json.dump(website_monthly_pageviews, outfile)\n",
    "    \n",
    "with open('../raw_data/pageviews_desktop_201507-202109.json', 'w', encoding='utf-8') as outfile:\n",
    "    json.dump(desktop_monthly_pageviews, outfile)\n",
    "    \n",
    "with open('../raw_data/pageviews_mobile_201507-202109.json', 'w', encoding='utf-8') as outfile:\n",
    "    json.dump(mobile_monthly_pageviews, outfile)"
   ]
  }
 ],
 "metadata": {
  "kernelspec": {
   "display_name": "Python 3",
   "language": "python",
   "name": "python3"
  },
  "language_info": {
   "codemirror_mode": {
    "name": "ipython",
    "version": 3
   },
   "file_extension": ".py",
   "mimetype": "text/x-python",
   "name": "python",
   "nbconvert_exporter": "python",
   "pygments_lexer": "ipython3",
   "version": "3.7.4"
  }
 },
 "nbformat": 4,
 "nbformat_minor": 2
}
